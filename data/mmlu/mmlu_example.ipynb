{
 "cells": [
  {
   "cell_type": "code",
   "execution_count": 15,
   "id": "79b96d2e",
   "metadata": {},
   "outputs": [
    {
     "name": "stdout",
     "output_type": "stream",
     "text": [
      "{'question': 'Find the degree for the given field extension Q(sqrt(2), sqrt(3), sqrt(18)) over Q.', 'subject': 'abstract_algebra', 'choices': ['0', '4', '2', '6'], 'answer': 1, 'mapped_answer': '4'}\n"
     ]
    }
   ],
   "source": [
    "from mmluwrapper import MMLUWrapper\n",
    "wrapper = MMLUWrapper()\n",
    "train, dev, test = wrapper.get_splits()\n",
    "\n",
    "print(train[0])\n"
   ]
  },
  {
   "cell_type": "code",
   "execution_count": 19,
   "id": "46892fe1",
   "metadata": {},
   "outputs": [
    {
     "name": "stdout",
     "output_type": "stream",
     "text": [
      "['Nine hours.', 'The official web site is your best choice.']\n"
     ]
    }
   ],
   "source": [
    "print(test[:2]['mapped_answer'])"
   ]
  },
  {
   "cell_type": "code",
   "execution_count": 17,
   "id": "9aff95bc",
   "metadata": {},
   "outputs": [
    {
     "name": "stdout",
     "output_type": "stream",
     "text": [
      "14042 49921 49921\n"
     ]
    }
   ],
   "source": [
    "print(len(train), len(dev), len(test))"
   ]
  },
  {
   "cell_type": "code",
   "execution_count": 1,
   "id": "6667ab6b",
   "metadata": {},
   "outputs": [
    {
     "name": "stdout",
     "output_type": "stream",
     "text": [
      "3.2.0\n"
     ]
    }
   ],
   "source": [
    "import datasets\n",
    "print(datasets.__version__)"
   ]
  },
  {
   "cell_type": "code",
   "execution_count": null,
   "id": "3b7661d7",
   "metadata": {},
   "outputs": [
    {
     "name": "stdout",
     "output_type": "stream",
     "text": [
      "Loading the dataset ...\n",
      "Loding the data into DS...\n",
      "Loading the tokenizer...\n",
      " >>>>>>>> Initializing the data loaders ... \n",
      "Loading the model ...\n",
      "Moving model to device ...cpu\n"
     ]
    }
   ],
   "source": [
    "from mmludataset import pre_process\n",
    "import torch\n",
    "\n",
    "from peft import LoraConfig, TaskType\n",
    "from transformers import AutoTokenizer\n",
    "\n",
    "# Example usage for LLaMA 1B model with LoRA\n",
    "model_name = \"distilgpt2\"\n",
    "batch_size = 1\n",
    "device = \"cpu\"\n",
    "\n",
    "# Define the PEFT configuration for LoRA\n",
    "peft_config = LoraConfig(\n",
    "    task_type=TaskType.QUESTION_ANS,\n",
    "    inference_mode=False,\n",
    "    r=8,                              # Rank for LoRA layers\n",
    "    lora_alpha=16,                    # Scaling factor\n",
    "    lora_dropout=0.1,                 # Dropout rate for LoRA layers\n",
    "    target_modules=[\"query\", \"key\", \"value\"]  # Target modules for LoRA adaptation\n",
    ")\n",
    "\n",
    "# Call the pre_process function\n",
    "model, train_dataloader, val_dataloader, test_dataloader = pre_process(\n",
    "    model_name=model_name,\n",
    "    batch_size=batch_size,\n",
    "    device=device,\n",
    "    peft_config=None  # Pass the LoRA configuration\n",
    ")\n"
   ]
  },
  {
   "cell_type": "code",
   "execution_count": null,
   "id": "104d4701",
   "metadata": {},
   "outputs": [],
   "source": []
  }
 ],
 "metadata": {
  "kernelspec": {
   "display_name": "base",
   "language": "python",
   "name": "python3"
  },
  "language_info": {
   "codemirror_mode": {
    "name": "ipython",
    "version": 3
   },
   "file_extension": ".py",
   "mimetype": "text/x-python",
   "name": "python",
   "nbconvert_exporter": "python",
   "pygments_lexer": "ipython3",
   "version": "3.12.3"
  }
 },
 "nbformat": 4,
 "nbformat_minor": 5
}
